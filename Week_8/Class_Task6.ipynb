{
 "cells": [
  {
   "cell_type": "markdown",
   "id": "e4fdfe9b",
   "metadata": {},
   "source": []
  },
  {
   "cell_type": "markdown",
   "id": "249f3809",
   "metadata": {},
   "source": [
    "### Question 1\n",
    "\n",
    "i. test score =  5, 8, 10, 12, 12, 12, 13, 14, 14, 15, 16, 18, 18, 20, 20\n",
    "\n",
    "add test score= 5 + 8 + 10 + 12 + 12 + 12 + 13 + 14 + 14 + 15 + 16 + 18 + 18 + 20 + 20 \n",
    "            = 207\n",
    "number of students = 15\n",
    "\n",
    "mean = 207 / 15\n",
    "mean = 13.8\n",
    "\n",
    "median = The middle value of the dataset is 14\n",
    "\n",
    "mode = 12 occured three times more than other test score\n",
    "\n",
    " \n",
    "ii. lowest score wrongly recorded\n",
    "  test score = 10, 8, 10, 12, 12, 12, 13, 14, 14, 15, 16, 18, 18, 20, 20                               # changed from 5 to 10\n",
    "\n",
    "  add test score =  10 + 8 + 10 + 12 + 12 + 12 + 13 + 14 + 14 + 15 + 16 + 18 + 18 + 20 + 20\n",
    "\n",
    "  mean = 212 / 15                                                                                      # no of students still 15\n",
    "\n",
    "  mean = 14.1        \n",
    "\n",
    "  only the mean can change, the changes in test score wont affect the median and mode\n",
    "\n",
    "\n",
    "\n",
    "\n",
    "                 \n",
    "\n",
    "\n"
   ]
  },
  {
   "cell_type": "markdown",
   "id": "d3e3ad44",
   "metadata": {},
   "source": [
    "\n",
    "  ### Question 2\n",
    " Daily Commute Times\n",
    "\n",
    " i. time reported = 15, 20, 20, 25, 25, 30, 60, 65, 120\n",
    "\n",
    "  add time reported =  15 + 20 + 20 + 25 + 25 + 30 + 60 + 65 + 120\n",
    "                    = 380\n",
    "\n",
    " meann = 380/ 9                                                                                       # 9 = number of which each times was reported (9x)\n",
    "\n",
    " mean = 42.2\n",
    "\n",
    " median =  (15, 20, 20, 25, 25, 30, 60, 65, 120) \n",
    "\n",
    "median = 25 scoring in ascending order\n",
    "\n",
    "mode = ( 15, 20, 20, 25, 25, 30, 60, 65, 120)\n",
    "mode = 20 and 25  bimodal\n",
    "\n",
    "ii. The measure that best represent the time it takes student to get to school is the modal tendency because it is the time most of the students get to school."
   ]
  },
  {
   "cell_type": "markdown",
   "id": "0ffe1641",
   "metadata": {},
   "source": [
    "\n",
    "### Question 3\n",
    "Shoe size\n",
    " i. 38, 39, 38, 40, 41, 42, 39, 39, 40, 38, 37, 39, 40, 41, 42\n",
    "\n",
    " rearranging the dataset in ascending order\n",
    " 37, 38, 38, 38, 39, 39, 39, 39, 40, 40, 40, 41, 41, 42, 42\n",
    "\n",
    " mode = size 39 is the number that occured most\n",
    "\n",
    "ii. The shoe company will rather produce the size of shoes that occured most which is size 39\n",
    "\n",
    "iii. if the company want to produce one size that will fit the average students, the will use the median frequency which will determine the average shoe size\n",
    "median = (37, 38, 38, 38, 39, 39, 39, 39, 40, 40, 40, 41, 41, 42, 42) scoring from ascending order\n",
    "median = 39 "
   ]
  }
 ],
 "metadata": {
  "kernelspec": {
   "display_name": "Python 3",
   "language": "python",
   "name": "python3"
  },
  "language_info": {
   "codemirror_mode": {
    "name": "ipython",
    "version": 3
   },
   "file_extension": ".py",
   "mimetype": "text/x-python",
   "name": "python",
   "nbconvert_exporter": "python",
   "pygments_lexer": "ipython3",
   "version": "3.13.6"
  }
 },
 "nbformat": 4,
 "nbformat_minor": 5
}
