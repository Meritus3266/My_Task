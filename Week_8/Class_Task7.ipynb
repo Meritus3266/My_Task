{
 "cells": [
  {
   "cell_type": "markdown",
   "id": "2996ca70",
   "metadata": {},
   "source": [
    "data = 4, 8,6, 5, 3\n",
    "\n",
    "determining the mean of the data\n",
    "data = 4 + 8 + 6 + 5 + 3\n",
    "     = 26 / 5\n",
    "     = 5.2\n",
    "\n",
    "4 - 5.2=  -1.2\n",
    "8 - 5.2=  -2.8\n",
    "6 - 5.2=  0.8\n",
    "5 - 5.2=  -0.2\n",
    "3 - 5.2=  -2.2\n",
    "\n",
    "data = (-1.2)^2 + (-2.8)^2 + (0.8)^2 + (-0.2)^2 + (-2.2)^2\n",
    "    = 1.44 + 7.84 + 0.64 + 0.04 + 4.84\n",
    "\n",
    "var = 14.8 / 5\n",
    "    = 2.96"
   ]
  }
 ],
 "metadata": {
  "language_info": {
   "name": "python"
  }
 },
 "nbformat": 4,
 "nbformat_minor": 5
}
