{
 "cells": [
  {
   "cell_type": "code",
   "execution_count": null,
   "id": "dfe9ecac",
   "metadata": {},
   "outputs": [],
   "source": [
    "import pandas as pd\n",
    "import numpy as np\n",
    "import seaborn as sns\n",
    "import matplotlib.pyplot as plt\n",
    "import zipfile\n",
    "import os "
   ]
  },
  {
   "cell_type": "code",
   "execution_count": 15,
   "id": "738965d1",
   "metadata": {},
   "outputs": [
    {
     "ename": "NameError",
     "evalue": "name 'zipfile' is not defined",
     "output_type": "error",
     "traceback": [
      "\u001b[31m---------------------------------------------------------------------------\u001b[39m",
      "\u001b[31mNameError\u001b[39m                                 Traceback (most recent call last)",
      "\u001b[36mCell\u001b[39m\u001b[36m \u001b[39m\u001b[32mIn[15]\u001b[39m\u001b[32m, line 3\u001b[39m\n\u001b[32m      1\u001b[39m zip_path = \u001b[33mr\u001b[39m\u001b[33m\"\u001b[39m\u001b[33mC:\u001b[39m\u001b[33m\\\u001b[39m\u001b[33mUsers\u001b[39m\u001b[33m\\\u001b[39m\u001b[33mTHINKPAD\u001b[39m\u001b[33m\\\u001b[39m\u001b[33mDesktop\u001b[39m\u001b[33m\\\u001b[39m\u001b[33mLM\u001b[39m\u001b[33m\\\u001b[39m\u001b[33m6-weeks-Introductory-AI-course\u001b[39m\u001b[33m\\\u001b[39m\u001b[33mMachine_Learning\u001b[39m\u001b[33m\\\u001b[39m\u001b[33mDatasets\u001b[39m\u001b[33m\\\u001b[39m\u001b[33mwine+quality.zip\u001b[39m\u001b[33m\"\u001b[39m\n\u001b[32m----> \u001b[39m\u001b[32m3\u001b[39m \u001b[38;5;28;01mwith\u001b[39;00m \u001b[43mzipfile\u001b[49m.ZipFile(zip_path, \u001b[33m'\u001b[39m\u001b[33mr\u001b[39m\u001b[33m'\u001b[39m) \u001b[38;5;28;01mas\u001b[39;00m zip_ref:\n\u001b[32m      4\u001b[39m     zip_ref.printdir()\n\u001b[32m      5\u001b[39m     \u001b[38;5;66;03m#zip_ref.extractall(\"Datasets\")\u001b[39;00m\n",
      "\u001b[31mNameError\u001b[39m: name 'zipfile' is not defined"
     ]
    }
   ],
   "source": [
    "zip_path = r\"C:\\Users\\THINKPAD\\Desktop\\LM\\6-weeks-Introductory-AI-course\\Machine_Learning\\Datasets\\wine+quality.zip\"\n",
    "\n",
    "with zipfile.ZipFile(zip_path, 'r') as zip_ref:\n",
    "    zip_ref.printdir()\n",
    "    #zip_ref.extractall(\"Datasets\")\n"
   ]
  }
 ],
 "metadata": {
  "kernelspec": {
   "display_name": "Python 3",
   "language": "python",
   "name": "python3"
  },
  "language_info": {
   "codemirror_mode": {
    "name": "ipython",
    "version": 3
   },
   "file_extension": ".py",
   "mimetype": "text/x-python",
   "name": "python",
   "nbconvert_exporter": "python",
   "pygments_lexer": "ipython3",
   "version": "3.14.0"
  }
 },
 "nbformat": 4,
 "nbformat_minor": 5
}
