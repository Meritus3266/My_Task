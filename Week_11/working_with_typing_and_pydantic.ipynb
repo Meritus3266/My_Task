{
 "cells": [
  {
   "cell_type": "code",
   "execution_count": 6,
   "id": "f02df3f2",
   "metadata": {},
   "outputs": [],
   "source": [
    "def get_average(name: str, scores: list[float]) -> float:\n",
    "    average_score = sum(scores)/len(scores)\n",
    "    print(f\"{name}'s average score is {average_score}\")\n",
    "    return average_score"
   ]
  },
  {
   "cell_type": "code",
   "execution_count": 9,
   "id": "b2ecdb22",
   "metadata": {},
   "outputs": [],
   "source": [
    "from typing import List, Union, Dict, Optional\n",
    "\n",
    "def process_scores(\n",
    "        scores:List[int],\n",
    "        info: Dict[str, Union[int, float]],\n",
    "        comment: Optional[str]= None)-> None:\n",
    "          print(\"scores\",scores)\n",
    "          print(\"info\",info)\n",
    "          if comment:\n",
    "              print(\"comment\",comment)"
   ]
  },
  {
   "cell_type": "code",
   "execution_count": 10,
   "id": "da72e133",
   "metadata": {},
   "outputs": [
    {
     "name": "stdout",
     "output_type": "stream",
     "text": [
      "Fellow ID is 42\n",
      "Fellow ID is 42\n",
      "Fellow ID is 42.0\n"
     ]
    }
   ],
   "source": [
    "from typing import Union\n",
    "\n",
    "def get_fellow_id(id: Union[int, str]) -> str:\n",
    "    return f\"Fellow ID is {id}\"\n",
    "\n",
    "print(get_fellow_id(42))\n",
    "print(get_fellow_id(\"42\"))\n",
    "print(get_fellow_id(42.0))"
   ]
  },
  {
   "cell_type": "code",
   "execution_count": 11,
   "id": "88555fe4",
   "metadata": {},
   "outputs": [],
   "source": [
    "# Instead of union you can use pipe \"|\" - hold shift + backslash to get it\n",
    "\n",
    "def get_fellow_id(id: int | str) -> str:\n",
    "    return f\"fellow ID: {id}\"\n",
    "\n",
    "\n",
    "def get_fellow_id(id: Union[int, str]) -> str:\n",
    "    return f\"fellow ID: {id}\""
   ]
  },
  {
   "cell_type": "code",
   "execution_count": 12,
   "id": "eba22c5d",
   "metadata": {},
   "outputs": [],
   "source": [
    "from typing import Union\n",
    "\n",
    "def format_address(house_number: Union[int, str], street: str) -> str:\n",
    "    return f\"{house_number} {street}\""
   ]
  },
  {
   "cell_type": "code",
   "execution_count": 13,
   "id": "8626c8a0",
   "metadata": {},
   "outputs": [
    {
     "name": "stdout",
     "output_type": "stream",
     "text": [
      "23 Ajelogo Street\n",
      "23B Ajelogo Street\n"
     ]
    }
   ],
   "source": [
    "print(format_address(23, \"Ajelogo Street\"))   # 23 Ajelogo Street\n",
    "print(format_address(\"23B\", \"Ajelogo Street\")) # 23B Ajelogo Street"
   ]
  },
  {
   "cell_type": "code",
   "execution_count": 14,
   "id": "fc974685",
   "metadata": {},
   "outputs": [],
   "source": [
    "from typing  import Optional\n",
    "\n",
    "def greet(first_name: str, last_name:Optional[str] = None)-> None:\n",
    "    if last_name:\n",
    "        print(f\"Hello {first_name} {last_name}\")\n",
    "    else:\n",
    "        print(f\"Hello {first_name}\")"
   ]
  },
  {
   "cell_type": "code",
   "execution_count": 15,
   "id": "6db6bc9c",
   "metadata": {},
   "outputs": [
    {
     "name": "stdout",
     "output_type": "stream",
     "text": [
      "Hello Toyeebat Arike\n",
      "Hello Toyeebat\n"
     ]
    }
   ],
   "source": [
    "greet(\"Toyeebat\", \"Arike\")   \n",
    "greet(\"Toyeebat\")"
   ]
  },
  {
   "cell_type": "code",
   "execution_count": 16,
   "id": "551eb35b",
   "metadata": {},
   "outputs": [],
   "source": [
    "def find_user(username: str) -> Optional[dict]:\n",
    "    if username == \"admin\":\n",
    "        return {\"username\": \"admin\", \"role\": \"administrator\"}\n",
    "    return None"
   ]
  },
  {
   "cell_type": "code",
   "execution_count": 17,
   "id": "3216d8dc",
   "metadata": {},
   "outputs": [
    {
     "data": {
      "text/plain": [
       "{'username': 'admin', 'role': 'administrator'}"
      ]
     },
     "execution_count": 17,
     "metadata": {},
     "output_type": "execute_result"
    }
   ],
   "source": [
    "find_user(\"admin\")"
   ]
  },
  {
   "cell_type": "code",
   "execution_count": 18,
   "id": "5e4e43b3",
   "metadata": {},
   "outputs": [],
   "source": [
    "from typing import Dict\n",
    "\n",
    "fellow_scores: Dict[str, int] = {\n",
    "    \"Alice\": 85,\n",
    "    \"Bob\": 90,\n",
    "    \"Charlie\": 78\n",
    "}\n"
   ]
  },
  {
   "cell_type": "code",
   "execution_count": 19,
   "id": "e77bab41",
   "metadata": {},
   "outputs": [],
   "source": [
    "from typing import Tuple\n",
    "\n",
    "fellow: Tuple[str, int, str] = (\"Perpetual\",88,\"AI Engineering\")"
   ]
  },
  {
   "cell_type": "code",
   "execution_count": 20,
   "id": "d3a2a392",
   "metadata": {},
   "outputs": [],
   "source": [
    "from pydantic import BaseModel\n",
    "\n",
    "# Lets create a pydantic data model\n",
    "\n",
    "class Fellow(BaseModel):\n",
    "    name: str\n",
    "    score: int\n",
    "    track: str"
   ]
  },
  {
   "cell_type": "code",
   "execution_count": 21,
   "id": "dd98c89e",
   "metadata": {},
   "outputs": [
    {
     "data": {
      "text/plain": [
       "Fellow(name='Perpetual', score=88, track='AI Engineering')"
      ]
     },
     "execution_count": 21,
     "metadata": {},
     "output_type": "execute_result"
    }
   ],
   "source": [
    "# 1. Validation - It autmatically validates data passed to it\n",
    "\n",
    "Fellow(name=\"Perpetual\", score=88, track=\"AI Engineering\") # This will work fine"
   ]
  },
  {
   "cell_type": "code",
   "execution_count": 17,
   "id": "8e772414",
   "metadata": {},
   "outputs": [
    {
     "ename": "ValidationError",
     "evalue": "1 validation error for Fellow\nscore\n  Input should be a valid integer, unable to parse string as an integer [type=int_parsing, input_value='eighty-seven', input_type=str]\n    For further information visit https://errors.pydantic.dev/2.12/v/int_parsing",
     "output_type": "error",
     "traceback": [
      "\u001b[31m---------------------------------------------------------------------------\u001b[39m",
      "\u001b[31mValidationError\u001b[39m                           Traceback (most recent call last)",
      "\u001b[36mCell\u001b[39m\u001b[36m \u001b[39m\u001b[32mIn[17]\u001b[39m\u001b[32m, line 1\u001b[39m\n\u001b[32m----> \u001b[39m\u001b[32m1\u001b[39m \u001b[43mFellow\u001b[49m\u001b[43m(\u001b[49m\u001b[43mname\u001b[49m\u001b[43m=\u001b[49m\u001b[43m \u001b[49m\u001b[33;43m\"\u001b[39;49m\u001b[33;43mZach\u001b[39;49m\u001b[33;43m\"\u001b[39;49m\u001b[43m,\u001b[49m\u001b[43m \u001b[49m\u001b[43mscore\u001b[49m\u001b[43m \u001b[49m\u001b[43m=\u001b[49m\u001b[43m \u001b[49m\u001b[33;43m\"\u001b[39;49m\u001b[33;43meighty-seven\u001b[39;49m\u001b[33;43m\"\u001b[39;49m\u001b[43m,\u001b[49m\u001b[43m \u001b[49m\u001b[43mtrack\u001b[49m\u001b[43m=\u001b[49m\u001b[33;43m\"\u001b[39;49m\u001b[33;43mAI Engineering\u001b[39;49m\u001b[33;43m\"\u001b[39;49m\u001b[43m)\u001b[49m \u001b[38;5;66;03m# This will raise error\u001b[39;00m\n",
      "\u001b[36mFile \u001b[39m\u001b[32mc:\\Users\\ncc333\\AppData\\Local\\Programs\\Python\\Python313\\Lib\\site-packages\\pydantic\\main.py:250\u001b[39m, in \u001b[36mBaseModel.__init__\u001b[39m\u001b[34m(self, **data)\u001b[39m\n\u001b[32m    248\u001b[39m \u001b[38;5;66;03m# `__tracebackhide__` tells pytest and some other tools to omit this function from tracebacks\u001b[39;00m\n\u001b[32m    249\u001b[39m __tracebackhide__ = \u001b[38;5;28;01mTrue\u001b[39;00m\n\u001b[32m--> \u001b[39m\u001b[32m250\u001b[39m validated_self = \u001b[38;5;28;43mself\u001b[39;49m\u001b[43m.\u001b[49m\u001b[43m__pydantic_validator__\u001b[49m\u001b[43m.\u001b[49m\u001b[43mvalidate_python\u001b[49m\u001b[43m(\u001b[49m\u001b[43mdata\u001b[49m\u001b[43m,\u001b[49m\u001b[43m \u001b[49m\u001b[43mself_instance\u001b[49m\u001b[43m=\u001b[49m\u001b[38;5;28;43mself\u001b[39;49m\u001b[43m)\u001b[49m\n\u001b[32m    251\u001b[39m \u001b[38;5;28;01mif\u001b[39;00m \u001b[38;5;28mself\u001b[39m \u001b[38;5;129;01mis\u001b[39;00m \u001b[38;5;129;01mnot\u001b[39;00m validated_self:\n\u001b[32m    252\u001b[39m     warnings.warn(\n\u001b[32m    253\u001b[39m         \u001b[33m'\u001b[39m\u001b[33mA custom validator is returning a value other than `self`.\u001b[39m\u001b[38;5;130;01m\\n\u001b[39;00m\u001b[33m'\u001b[39m\n\u001b[32m    254\u001b[39m         \u001b[33m\"\u001b[39m\u001b[33mReturning anything other than `self` from a top level model validator isn\u001b[39m\u001b[33m'\u001b[39m\u001b[33mt supported when validating via `__init__`.\u001b[39m\u001b[38;5;130;01m\\n\u001b[39;00m\u001b[33m\"\u001b[39m\n\u001b[32m    255\u001b[39m         \u001b[33m'\u001b[39m\u001b[33mSee the `model_validator` docs (https://docs.pydantic.dev/latest/concepts/validators/#model-validators) for more details.\u001b[39m\u001b[33m'\u001b[39m,\n\u001b[32m    256\u001b[39m         stacklevel=\u001b[32m2\u001b[39m,\n\u001b[32m    257\u001b[39m     )\n",
      "\u001b[31mValidationError\u001b[39m: 1 validation error for Fellow\nscore\n  Input should be a valid integer, unable to parse string as an integer [type=int_parsing, input_value='eighty-seven', input_type=str]\n    For further information visit https://errors.pydantic.dev/2.12/v/int_parsing"
     ]
    }
   ],
   "source": [
    "Fellow(name= \"Zach\", score = \"eighty-seven\", track=\"AI Engineering\") # This will raise error"
   ]
  },
  {
   "cell_type": "code",
   "execution_count": 22,
   "id": "78889caa",
   "metadata": {},
   "outputs": [
    {
     "name": "stdout",
     "output_type": "stream",
     "text": [
      "<class 'int'>\n"
     ]
    }
   ],
   "source": [
    "p = Fellow(name = \"Perpetual\", score = \"88\", track = \"AI Engineering\")\n",
    "print(type(p.score))"
   ]
  },
  {
   "cell_type": "code",
   "execution_count": 23,
   "id": "563735d3",
   "metadata": {},
   "outputs": [
    {
     "name": "stdout",
     "output_type": "stream",
     "text": [
      "name='Blessing' score=100 track='AI Engineering '\n",
      "<class 'int'>\n"
     ]
    }
   ],
   "source": [
    "# an incomming data\n",
    "data= {\"name\":\"Blessing\", \"score\": \"100\", \"track\":\"AI Engineering \"}\n",
    "\n",
    "# pydantic will parse it like this\n",
    "fellow =Fellow(**data)\n",
    "\n",
    "print(fellow)\n",
    "print(type(fellow.score))"
   ]
  },
  {
   "cell_type": "code",
   "execution_count": 24,
   "id": "628cac4f",
   "metadata": {},
   "outputs": [
    {
     "name": "stdout",
     "output_type": "stream",
     "text": [
      "{\"name\":\"Perpetual\",\"score\":88,\"track\":\"AI Engineering\"}\n"
     ]
    },
    {
     "name": "stderr",
     "output_type": "stream",
     "text": [
      "C:\\Users\\ncc333\\AppData\\Local\\Temp\\ipykernel_14728\\349802518.py:3: PydanticDeprecatedSince20: The `json` method is deprecated; use `model_dump_json` instead. Deprecated in Pydantic V2.0 to be removed in V3.0. See Pydantic V2 Migration Guide at https://errors.pydantic.dev/2.12/migration/\n",
      "  print(p.json())\n"
     ]
    }
   ],
   "source": [
    "# 3. Serailization - It automatically converts data to JSON or dictioanry(converts to a format that can be stored or sent)\n",
    "# Its more like packaging a data for output\n",
    "print(p.json())"
   ]
  },
  {
   "cell_type": "code",
   "execution_count": 25,
   "id": "695653c9",
   "metadata": {},
   "outputs": [
    {
     "name": "stdout",
     "output_type": "stream",
     "text": [
      "{'name': 'Perpetual', 'score': 88, 'track': 'AI Engineering'}\n"
     ]
    },
    {
     "name": "stderr",
     "output_type": "stream",
     "text": [
      "C:\\Users\\ncc333\\AppData\\Local\\Temp\\ipykernel_14728\\2898676942.py:1: PydanticDeprecatedSince20: The `dict` method is deprecated; use `model_dump` instead. Deprecated in Pydantic V2.0 to be removed in V3.0. See Pydantic V2 Migration Guide at https://errors.pydantic.dev/2.12/migration/\n",
      "  print(p.dict())\n"
     ]
    }
   ],
   "source": [
    "print(p.dict())"
   ]
  },
  {
   "cell_type": "code",
   "execution_count": 26,
   "id": "4e87a0c9",
   "metadata": {},
   "outputs": [],
   "source": [
    "# 4. Nesting  - Models can be nested to create complex data structures\n",
    "\n",
    "\n",
    "class Address(BaseModel):\n",
    "    street: str\n",
    "    city: str\n",
    "    state: str\n",
    "    country: str\n",
    "\n",
    "class Fellow(BaseModel):\n",
    "    name: str\n",
    "    score: int\n",
    "    track: str\n",
    "    address: Address\n",
    "    \n",
    "# Pydantic will validate thhis automatically"
   ]
  },
  {
   "cell_type": "code",
   "execution_count": 27,
   "id": "370b5d8a",
   "metadata": {},
   "outputs": [],
   "source": [
    "from pydantic import BaseModel, Field, field_validator\n",
    "\n",
    "class Person(BaseModel):\n",
    "    name: str\n",
    "    age: int = Field(..., ge=0)\n",
    "    \n",
    "    @field_validator(\"name\")\n",
    "    def name_must_start_with_capital(cls, v):\n",
    "        if not v[0].isupper():\n",
    "            raise ValueError(\"Name must start with a capital letter\")\n",
    "        return v \n",
    "    \n",
    "    "
   ]
  },
  {
   "cell_type": "code",
   "execution_count": 28,
   "id": "e35ea77c",
   "metadata": {},
   "outputs": [
    {
     "ename": "ValidationError",
     "evalue": "1 validation error for Person\nname\n  Value error, Name must start with a capital letter [type=value_error, input_value='solomon', input_type=str]\n    For further information visit https://errors.pydantic.dev/2.12/v/value_error",
     "output_type": "error",
     "traceback": [
      "\u001b[31m---------------------------------------------------------------------------\u001b[39m",
      "\u001b[31mValidationError\u001b[39m                           Traceback (most recent call last)",
      "\u001b[36mCell\u001b[39m\u001b[36m \u001b[39m\u001b[32mIn[28]\u001b[39m\u001b[32m, line 1\u001b[39m\n\u001b[32m----> \u001b[39m\u001b[32m1\u001b[39m \u001b[43mPerson\u001b[49m\u001b[43m(\u001b[49m\u001b[43mname\u001b[49m\u001b[43m=\u001b[49m\u001b[33;43m\"\u001b[39;49m\u001b[33;43msolomon\u001b[39;49m\u001b[33;43m\"\u001b[39;49m\u001b[43m,\u001b[49m\u001b[43m \u001b[49m\u001b[43mage\u001b[49m\u001b[43m \u001b[49m\u001b[43m=\u001b[49m\u001b[43m \u001b[49m\u001b[32;43m30\u001b[39;49m\u001b[43m)\u001b[49m\n",
      "\u001b[36mFile \u001b[39m\u001b[32mc:\\Users\\ncc333\\AppData\\Local\\Programs\\Python\\Python313\\Lib\\site-packages\\pydantic\\main.py:250\u001b[39m, in \u001b[36mBaseModel.__init__\u001b[39m\u001b[34m(self, **data)\u001b[39m\n\u001b[32m    248\u001b[39m \u001b[38;5;66;03m# `__tracebackhide__` tells pytest and some other tools to omit this function from tracebacks\u001b[39;00m\n\u001b[32m    249\u001b[39m __tracebackhide__ = \u001b[38;5;28;01mTrue\u001b[39;00m\n\u001b[32m--> \u001b[39m\u001b[32m250\u001b[39m validated_self = \u001b[38;5;28;43mself\u001b[39;49m\u001b[43m.\u001b[49m\u001b[43m__pydantic_validator__\u001b[49m\u001b[43m.\u001b[49m\u001b[43mvalidate_python\u001b[49m\u001b[43m(\u001b[49m\u001b[43mdata\u001b[49m\u001b[43m,\u001b[49m\u001b[43m \u001b[49m\u001b[43mself_instance\u001b[49m\u001b[43m=\u001b[49m\u001b[38;5;28;43mself\u001b[39;49m\u001b[43m)\u001b[49m\n\u001b[32m    251\u001b[39m \u001b[38;5;28;01mif\u001b[39;00m \u001b[38;5;28mself\u001b[39m \u001b[38;5;129;01mis\u001b[39;00m \u001b[38;5;129;01mnot\u001b[39;00m validated_self:\n\u001b[32m    252\u001b[39m     warnings.warn(\n\u001b[32m    253\u001b[39m         \u001b[33m'\u001b[39m\u001b[33mA custom validator is returning a value other than `self`.\u001b[39m\u001b[38;5;130;01m\\n\u001b[39;00m\u001b[33m'\u001b[39m\n\u001b[32m    254\u001b[39m         \u001b[33m\"\u001b[39m\u001b[33mReturning anything other than `self` from a top level model validator isn\u001b[39m\u001b[33m'\u001b[39m\u001b[33mt supported when validating via `__init__`.\u001b[39m\u001b[38;5;130;01m\\n\u001b[39;00m\u001b[33m\"\u001b[39m\n\u001b[32m    255\u001b[39m         \u001b[33m'\u001b[39m\u001b[33mSee the `model_validator` docs (https://docs.pydantic.dev/latest/concepts/validators/#model-validators) for more details.\u001b[39m\u001b[33m'\u001b[39m,\n\u001b[32m    256\u001b[39m         stacklevel=\u001b[32m2\u001b[39m,\n\u001b[32m    257\u001b[39m     )\n",
      "\u001b[31mValidationError\u001b[39m: 1 validation error for Person\nname\n  Value error, Name must start with a capital letter [type=value_error, input_value='solomon', input_type=str]\n    For further information visit https://errors.pydantic.dev/2.12/v/value_error"
     ]
    }
   ],
   "source": [
    "Person(name=\"solomon\", age = 30)"
   ]
  },
  {
   "cell_type": "code",
   "execution_count": 31,
   "id": "07de9aa3",
   "metadata": {},
   "outputs": [
    {
     "data": {
      "text/plain": [
       "Person(name='Solomon', age=30)"
      ]
     },
     "execution_count": 31,
     "metadata": {},
     "output_type": "execute_result"
    }
   ],
   "source": [
    "Person(name=\"Solomon\", age =30)"
   ]
  },
  {
   "cell_type": "code",
   "execution_count": 34,
   "id": "441de2c4",
   "metadata": {},
   "outputs": [],
   "source": [
    "from datetime import datetime\n",
    "from decimal import Decimal\n",
    "from pydantic import BaseModel, Field, ValidationError\n",
    "from typing import List\n",
    "\n",
    "# Lets create the model here\n",
    "\n",
    "class ProductReview(BaseModel):\n",
    "    \n",
    "    review_id: int = Field(..., gt=0, lt=10000)\n",
    "    username: str = Field(..., min_length=3, max_length=12, pattern=r\"^[A-Za-z0-9_]+$\")\n",
    "    scores: List[int] = Field(..., min_length=3, max_length=5)\n",
    "    price: Decimal = Field(..., gt=0, max_digits=6, decimal_places=2)\n",
    "    rating: float = Field(..., ge=0, le=5, multiple_of=0.5)\n",
    "    is_active: bool = Field(default=True)\n",
    "    created_at: datetime = Field(default_factory=datetime.now)"
   ]
  },
  {
   "cell_type": "code",
   "execution_count": 36,
   "id": "2c0a675d",
   "metadata": {},
   "outputs": [],
   "source": [
    "# lets demo for each\n",
    "\n",
    "def demo_int_field():\n",
    "    print(\"Integer Field Validation\")\n",
    "    try:\n",
    "        ProductReview(review_id= 2, username=\"shabi\", scores=[4, 5, 4], price=Decimal(\"10.00\"), rating=4.5)\n",
    "    except ValidationError as e:\n",
    "        print(e)"
   ]
  },
  {
   "cell_type": "code",
   "execution_count": 38,
   "id": "a8ed1d5a",
   "metadata": {},
   "outputs": [
    {
     "name": "stdout",
     "output_type": "stream",
     "text": [
      "Integer Field Validation\n"
     ]
    }
   ],
   "source": [
    "demo_int_field()"
   ]
  }
 ],
 "metadata": {
  "kernelspec": {
   "display_name": "Python 3",
   "language": "python",
   "name": "python3"
  },
  "language_info": {
   "codemirror_mode": {
    "name": "ipython",
    "version": 3
   },
   "file_extension": ".py",
   "mimetype": "text/x-python",
   "name": "python",
   "nbconvert_exporter": "python",
   "pygments_lexer": "ipython3",
   "version": "3.14.0"
  }
 },
 "nbformat": 4,
 "nbformat_minor": 5
}
