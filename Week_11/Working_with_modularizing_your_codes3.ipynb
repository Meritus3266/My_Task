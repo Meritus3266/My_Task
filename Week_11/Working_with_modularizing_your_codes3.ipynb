{
 "cells": [
  {
   "cell_type": "code",
   "execution_count": 2,
   "id": "e352c1cd",
   "metadata": {},
   "outputs": [
    {
     "ename": "IndentationError",
     "evalue": "unindent does not match any outer indentation level (<string>, line 4)",
     "output_type": "error",
     "traceback": [
      "  \u001b[36mFile \u001b[39m\u001b[32m<string>:4\u001b[39m\n\u001b[31m    \u001b[39m\u001b[31mmy_greeting = greet_customer\u001b[39m\n                                ^\n\u001b[31mIndentationError\u001b[39m\u001b[31m:\u001b[39m unindent does not match any outer indentation level\n"
     ]
    }
   ],
   "source": [
    "def greet_customer():\n",
    "    return(\"Welcome to the store!\")\n",
    "\n",
    "   my_greeting = greet_customer\n",
    "   print(my_greeting())\n",
    "\n",
    "   def use_greeting(greeting_func):\n",
    "       return f\"shopper says: {greeting_func()}\"\n",
    "\n",
    "    print(use_greeting(greet_customer))\n"
   ]
  },
  {
   "cell_type": "code",
   "execution_count": 3,
   "id": "481d400f",
   "metadata": {},
   "outputs": [
    {
     "ename": "IndentationError",
     "evalue": "unexpected indent (3406221280.py, line 6)",
     "output_type": "error",
     "traceback": [
      "  \u001b[36mCell\u001b[39m\u001b[36m \u001b[39m\u001b[32mIn[3]\u001b[39m\u001b[32m, line 6\u001b[39m\n\u001b[31m    \u001b[39m\u001b[31moriginal_greeting = original_function()\u001b[39m\n    ^\n\u001b[31mIndentationError\u001b[39m\u001b[31m:\u001b[39m unexpected indent\n"
     ]
    }
   ],
   "source": [
    "def add_nigerian_politeness(original_function):\n",
    "    def wrapper():\n",
    "        result = original_function()\n",
    "        return f\"Good morning! {result} How are you doing today?\"\n",
    "    return wrapper_function\n",
    "        original_greeting = original_function()\n",
    "        polite_greeting = original_greeting + \" How are you doing today?\"\n",
    "        return polite_greeting\n",
    "    return wrapper()\n",
    "\n",
    "def basic_greeting():\n",
    "    return \"Welcome to the store!\""
   ]
  },
  {
   "cell_type": "code",
   "execution_count": 4,
   "id": "9b35f208",
   "metadata": {},
   "outputs": [
    {
     "ename": "NameError",
     "evalue": "name 'add_nigerian_politeness' is not defined",
     "output_type": "error",
     "traceback": [
      "\u001b[31m---------------------------------------------------------------------------\u001b[39m",
      "\u001b[31mNameError\u001b[39m                                 Traceback (most recent call last)",
      "\u001b[36mCell\u001b[39m\u001b[36m \u001b[39m\u001b[32mIn[4]\u001b[39m\u001b[32m, line 1\u001b[39m\n\u001b[32m----> \u001b[39m\u001b[32m1\u001b[39m polite_greetin = \u001b[43madd_nigerian_politeness\u001b[49m(basic_greeting)\n\u001b[32m      2\u001b[39m \u001b[38;5;28mprint\u001b[39m(polite_greeting())\n",
      "\u001b[31mNameError\u001b[39m: name 'add_nigerian_politeness' is not defined"
     ]
    }
   ],
   "source": [
    "polite_greetin = add_nigerian_politeness(basic_greeting)\n",
    "print(polite_greeting())"
   ]
  },
  {
   "cell_type": "code",
   "execution_count": null,
   "id": "0ea3d3ef",
   "metadata": {},
   "outputs": [],
   "source": [
    "@add_nigerian_politeness\n",
    "def shop"
   ]
  },
  {
   "cell_type": "code",
   "execution_count": 5,
   "id": "ac994690",
   "metadata": {},
   "outputs": [],
   "source": [
    "def add_nigerian_time_greeting(time_of_day):\n",
    "    def decorator(original_function):\n",
    "        def wrapper():\n",
    "            if time_of_day == \"morning\":\n",
    "                greeting = \"Good morning ooo!\"\n",
    "            elif time_of_day == \"afternoon\":\n",
    "                greeting = \"Good afternoon ooo!\"\n",
    "            elif time_of_day == \"evening\":\n",
    "                greeting = \"Good evening ooo!\"\n",
    "            else:\n",
    "                greeting = \"How far!\"\n",
    "\n",
    "                result = original_function()\n",
    "                return f\"{greeting} {result}\"\n",
    "        return wrapper\n",
    "    return decorator"
   ]
  },
  {
   "cell_type": "code",
   "execution_count": 6,
   "id": "cc6509f5",
   "metadata": {},
   "outputs": [],
   "source": [
    "@add_nigerian_time_greeting(\"morning\")\n",
    "def market_greeting():\n",
    "    return \"welcome to our shop. How can we help you?\""
   ]
  },
  {
   "cell_type": "code",
   "execution_count": 7,
   "id": "c0d73d04",
   "metadata": {},
   "outputs": [
    {
     "name": "stdout",
     "output_type": "stream",
     "text": [
      "None\n"
     ]
    }
   ],
   "source": [
    "print(market_greeting())"
   ]
  },
  {
   "cell_type": "code",
   "execution_count": null,
   "id": "e92b4a12",
   "metadata": {},
   "outputs": [],
   "source": [
    "def naira_formatter(currency_symbol= \"₦\")\n",
    "  \n",
    "   def decorator(original_function):\n",
    "        def wrapper(*args, **kwargs):\n",
    "            price = amount = original_function(*args, **kwargs)\n",
    "            formatted_amount = f\"{currency_symbol}{amount:,.{decimal_places}f}\"\n",
    "            return formatted_amount\n",
    "        return wrapper\n",
    "    return decorator#"
   ]
  }
 ],
 "metadata": {
  "kernelspec": {
   "display_name": "Python 3",
   "language": "python",
   "name": "python3"
  },
  "language_info": {
   "codemirror_mode": {
    "name": "ipython",
    "version": 3
   },
   "file_extension": ".py",
   "mimetype": "text/x-python",
   "name": "python",
   "nbconvert_exporter": "python",
   "pygments_lexer": "ipython3",
   "version": "3.13.6"
  }
 },
 "nbformat": 4,
 "nbformat_minor": 5
}
