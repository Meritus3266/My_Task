{
 "cells": [
  {
   "cell_type": "markdown",
   "id": "5c4b7397",
   "metadata": {},
   "source": []
  },
  {
   "cell_type": "markdown",
   "id": "1ca5ff26",
   "metadata": {},
   "source": [
    "### CLASS TASK TWO MATRIX\n",
    "\n",
    "### Determining (AB)"
   ]
  },
  {
   "cell_type": "code",
   "execution_count": 3,
   "id": "434a99df",
   "metadata": {},
   "outputs": [
    {
     "name": "stdout",
     "output_type": "stream",
     "text": [
      "A array shape: (2, 3)\n",
      "B array shape: (3, 2)\n",
      "[[19 -5]\n",
      " [-3 -3]]\n"
     ]
    }
   ],
   "source": [
    "import numpy as np\n",
    "\n",
    "A = np.array([[2, -1, 3],\n",
    "              [0, 4, 1]])\n",
    "\n",
    "print('A array shape:', A.shape)\n",
    "\n",
    "B = np.array([[1, 2], [-2, 0],\n",
    "              [5, -3]])\n",
    "\n",
    "print('B array shape:', B.shape)\n",
    "\n",
    "print(A @ B)"
   ]
  },
  {
   "cell_type": "markdown",
   "id": "9f87a3f2",
   "metadata": {},
   "source": [
    "### Determining (BA)"
   ]
  },
  {
   "cell_type": "code",
   "execution_count": 4,
   "id": "7f280dfc",
   "metadata": {},
   "outputs": [
    {
     "name": "stdout",
     "output_type": "stream",
     "text": [
      "B array shape: (3, 2)\n",
      "A array shape: (2, 3)\n",
      "[[  2   7   5]\n",
      " [ -4   2  -6]\n",
      " [ 10 -17  12]]\n"
     ]
    }
   ],
   "source": [
    "\n",
    "B = np.array([[1, 2], [-2, 0],\n",
    "              [5, -3]])\n",
    "\n",
    "print('B array shape:', B.shape)\n",
    "\n",
    "\n",
    "A = np.array([[2, -1, 3],\n",
    "              [0, 4, 1]])\n",
    "\n",
    "print('A array shape:', A.shape)\n",
    "\n",
    "print(B @ A)"
   ]
  }
 ],
 "metadata": {
  "kernelspec": {
   "display_name": "myenv",
   "language": "python",
   "name": "python3"
  },
  "language_info": {
   "codemirror_mode": {
    "name": "ipython",
    "version": 3
   },
   "file_extension": ".py",
   "mimetype": "text/x-python",
   "name": "python",
   "nbconvert_exporter": "python",
   "pygments_lexer": "ipython3",
   "version": "3.13.6"
  }
 },
 "nbformat": 4,
 "nbformat_minor": 5
}
