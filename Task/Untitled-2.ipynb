{
 "cells": [
  {
   "cell_type": "markdown",
   "id": "1e53ab49",
   "metadata": {},
   "source": [
    "# Array Creation and Basic Manipulation\n",
    "\n",
    "In this section, we create a NumPy array of 20 random integers between 10 and 100, reshape it to a 4×5 matrix, extract specific rows and columns, and compute basic statistics."
   ]
  },
  {
   "cell_type": "code",
   "execution_count": null,
   "id": "6cabdb61",
   "metadata": {},
   "outputs": [],
   "source": [
    "import numpy as np\n",
    "\n",
    "# Create a NumPy array of 20 random integers between 10 and 100\n",
    "arr = np.random.randint(10, 101, size=20)\n",
    "print(\"Original Array:\\n\", arr)\n",
    "\n",
    "# Reshape the array into a 4x5 matrix\n",
    "arr_reshaped = arr.reshape(4, 5)\n",
    "print(\"\\nReshaped Array (4x5):\\n\", arr_reshaped)\n",
    "\n",
    "# Extract the first two rows and last three columns\n",
    "extracted = arr_reshaped[:2, -3:]\n",
    "print(\"\\nFirst two rows & last three columns:\\n\", extracted)\n",
    "\n",
    "# Compute mean and standard deviation\n",
    "mean_val = arr.mean()\n",
    "std_val = arr.std()\n",
    "print(f\"\\nMean of array: {mean_val:.2f}\")\n",
    "print(f\"Standard deviation of array: {std_val:.2f}\")"
   ]
  },
  {
   "cell_type": "markdown",
   "id": "af672a73",
   "metadata": {},
   "source": [
    "# Operations on 2D Arrays\n",
    "\n",
    "We simulate a 2D array for 10 students' scores in 5 subjects, then calculate the average score per student and find the highest and lowest scores in the dataset."
   ]
  },
  {
   "cell_type": "code",
   "execution_count": null,
   "id": "0434e8ad",
   "metadata": {},
   "outputs": [],
   "source": [
    "# Simulate students' scores: 10 students, 5 subjects\n",
    "scores = np.random.randint(40, 101, size=(10, 5))\n",
    "print(\"Students' Scores (10x5):\\n\", scores)\n",
    "\n",
    "# Calculate average score per student\n",
    "avg_per_student = scores.mean(axis=1)\n",
    "print(\"\\nAverage score per student:\\n\", avg_per_student)\n",
    "\n",
    "# Highest and lowest score in the dataset\n",
    "highest_score = scores.max()\n",
    "lowest_score = scores.min()\n",
    "print(f\"\\nHighest score in dataset: {highest_score}\")\n",
    "print(f\"Lowest score in dataset: {lowest_score}\")"
   ]
  },
  {
   "cell_type": "markdown",
   "id": "15314334",
   "metadata": {},
   "source": [
    "# Working with 3D Arrays\n",
    "\n",
    "Here, we create a 3D NumPy array with dimensions (3, 4, 2) filled with random integers between 1 and 20. We then perform sum, max, and flattening operations."
   ]
  },
  {
   "cell_type": "code",
   "execution_count": null,
   "id": "544e76e4",
   "metadata": {},
   "outputs": [],
   "source": [
    "# Create a 3D array (3, 4, 2) with random integers 1-20\n",
    "arr3d = np.random.randint(1, 21, size=(3, 4, 2))\n",
    "print(\"3D Array (3x4x2):\\n\", arr3d)\n",
    "\n",
    "# Sum of elements across the second axis (axis=1)\n",
    "sum_axis1 = arr3d.sum(axis=1)\n",
    "print(\"\\nSum across second axis (axis=1):\\n\", sum_axis1)\n",
    "\n",
    "# Maximum value along each layer (axis=0)\n",
    "max_per_layer = arr3d.max(axis=0)\n",
    "print(\"\\nMaximum value along each layer (axis=0):\\n\", max_per_layer)\n",
    "\n",
    "# Flatten the entire 3D array into a 1D array\n",
    "flattened = arr3d.flatten()\n",
    "print(\"\\nFlattened 1D array:\\n\", flattened)"
   ]
  },
  {
   "cell_type": "markdown",
   "id": "9715cac5",
   "metadata": {},
   "source": [
    "# Measures of Center and Spread\n",
    "\n",
    "Given the dataset of $CO_2$ emissions (in metric tons per capita) from five countries: [25.4, 30.2, 22.5, 28.1, 35.0], we compute the mean, median, mode, range, and standard deviation, and comment on the spread."
   ]
  },
  {
   "cell_type": "code",
   "execution_count": null,
   "id": "9425bfdf",
   "metadata": {},
   "outputs": [],
   "source": [
    "from scipy import stats\n",
    "\n",
    "co2 = np.array([25.4, 30.2, 22.5, 28.1, 35.0])\n",
    "\n",
    "mean_co2 = co2.mean()\n",
    "median_co2 = np.median(co2)\n",
    "mode_co2 = stats.mode(co2, keepdims=True).mode[0]\n",
    "range_co2 = co2.max() - co2.min()\n",
    "std_co2 = co2.std()\n",
    "\n",
    "print(f\"Mean: {mean_co2:.2f}\")\n",
    "print(f\"Median: {median_co2:.2f}\")\n",
    "print(f\"Mode: {mode_co2}\")\n",
    "print(f\"Range: {range_co2:.2f}\")\n",
    "print(f\"Standard Deviation: {std_co2:.2f}\")"
   ]
  },
  {
   "cell_type": "markdown",
   "id": "7fcac082",
   "metadata": {},
   "source": [
    "**Comment on the spread:**  \n",
    "The $CO_2$ emissions data shows a moderate spread, with a range of about 12.5 metric tons per capita and a standard deviation indicating some variability among the countries. The mean and median are close, suggesting a fairly symmetric distribution, while the mode is not very informative due to all values being unique."
   ]
  },
  {
   "cell_type": "markdown",
   "id": "8793b9f2",
   "metadata": {},
   "source": [
    "# Hypothesis Testing\n",
    "\n",
    "We perform a two-sample t-test to compare beef consumption between Argentina and Bangladesh. We state the hypotheses, compute the t-statistic and p-value, and draw a conclusion."
   ]
  },
  {
   "cell_type": "markdown",
   "id": "4a744b4f",
   "metadata": {},
   "source": [
    "**Null Hypothesis ($H_0$):**  \n",
    "There is no significant difference in mean beef consumption between Argentina and Bangladesh.\n",
    "\n",
    "**Alternative Hypothesis ($H_1$):**  \n",
    "There is a significant difference in mean beef consumption between Argentina and Bangladesh."
   ]
  },
  {
   "cell_type": "code",
   "execution_count": null,
   "id": "db36d617",
   "metadata": {},
   "outputs": [],
   "source": [
    "argentina = np.array([60, 62, 58, 63, 59])\n",
    "bangladesh = np.array([15, 12, 18, 14, 16])\n",
    "\n",
    "t_stat, p_val = stats.ttest_ind(argentina, bangladesh)\n",
    "print(f\"T-statistic: {t_stat:.2f}\")\n",
    "print(f\"P-value: {p_val:.4f}\")\n",
    "\n",
    "if p_val < 0.05:\n",
    "    print(\"Conclusion: Reject the null hypothesis. There is a significant difference in mean beef consumption.\")\n",
    "else:\n",
    "    print(\"Conclusion: Fail to reject the null hypothesis. No significant difference detected.\")"
   ]
  },
  {
   "cell_type": "markdown",
   "id": "853a3ae2",
   "metadata": {},
   "source": [
    "# Correlation Analysis\n",
    "\n",
    "We compute the Pearson correlation coefficient for consumption and $CO_2$ emission data, interpret the result, and explain the meaning if $r \\approx 0$."
   ]
  },
  {
   "cell_type": "code",
   "execution_count": null,
   "id": "2126cff4",
   "metadata": {},
   "outputs": [],
   "source": [
    "x = np.array([10, 15, 20, 25, 30])\n",
    "y = np.array([30, 45, 50, 70, 85])\n",
    "\n",
    "r, _ = stats.pearsonr(x, y)\n",
    "print(f\"Pearson correlation coefficient (r): {r:.2f}\")"
   ]
  },
  {
   "cell_type": "markdown",
   "id": "33a27740",
   "metadata": {},
   "source": [
    "**Interpretation:**  \n",
    "The Pearson correlation coefficient is close to 1, indicating a strong positive linear relationship between consumption and $CO_2$ emission. As consumption increases, $CO_2$ emission also increases.\n",
    "\n",
    "If $r \\approx 0$, it means there is little to no linear relationship between the two variables; changes in one variable do not predict changes in the other."
   ]
  },
  {
   "cell_type": "markdown",
   "id": "ca69079c",
   "metadata": {},
   "source": [
    "# Total Scores per Student\n",
    "\n",
    "Given matrix $A$ representing scores of 4 students in 3 subjects, we compute the total score for each student by summing across rows."
   ]
  },
  {
   "cell_type": "code",
   "execution_count": null,
   "id": "bbf9cc36",
   "metadata": {},
   "outputs": [],
   "source": [
    "A = np.array([\n",
    "    [80, 70, 90],\n",
    "    [60, 85, 75],\n",
    "    [95, 88, 92],\n",
    "    [70, 60, 65]\n",
    "])\n",
    "\n",
    "# Total scores per student (sum across rows)\n",
    "total_scores = A.sum(axis=1).reshape(-1, 1)\n",
    "print(\"Total scores per student (column vector):\\n\", total_scores)"
   ]
  },
  {
   "cell_type": "markdown",
   "id": "60b9b729",
   "metadata": {},
   "source": [
    "# Average Score per Subject\n",
    "\n",
    "We compute the average score for each subject by calculating the mean of each column in matrix $A$."
   ]
  },
  {
   "cell_type": "code",
   "execution_count": null,
   "id": "fce08d93",
   "metadata": {},
   "outputs": [],
   "source": [
    "# Average score per subject (mean across columns)\n",
    "avg_per_subject = A.mean(axis=0).reshape(1, -1)\n",
    "print(\"Average score per subject (row vector):\\n\", avg_per_subject)"
   ]
  },
  {
   "cell_type": "markdown",
   "id": "7af36145",
   "metadata": {},
   "source": [
    "# Weighted Final Grades\n",
    "\n",
    "Using the weights vector $w = [0.5, 0.3, 0.2]$, we compute each student's weighted final grade via matrix multiplication."
   ]
  },
  {
   "cell_type": "code",
   "execution_count": null,
   "id": "23223e2a",
   "metadata": {},
   "outputs": [],
   "source": [
    "w = np.array([0.5, 0.3, 0.2])\n",
    "G = A @ w.T\n",
    "G = G.reshape(-1, 1)\n",
    "print(\"Weighted final grades (column vector):\\n\", G)"
   ]
  },
  {
   "cell_type": "markdown",
   "id": "a428064d",
   "metadata": {},
   "source": [
    "# Applying Subject Importance\n",
    "\n",
    "Suppose Mathematics is considered twice as important as English and Science. We multiply the Math column by 2 to create $A'$, recompute total scores, and compare to previous totals."
   ]
  },
  {
   "cell_type": "code",
   "execution_count": null,
   "id": "756d6097",
   "metadata": {},
   "outputs": [],
   "source": [
    "# Multiply Math column by 2 to create A'\n",
    "A_prime = A.copy()\n",
    "A_prime[:, 0] *= 2\n",
    "\n",
    "# Recompute total scores per student\n",
    "total_scores_prime = A_prime.sum(axis=1).reshape(-1, 1)\n",
    "print(\"Total scores per student with Math weighted (column vector):\\n\", total_scores_prime)\n",
    "\n",
    "# Compare to previous totals\n",
    "print(\"\\nComparison of totals:\")\n",
    "for i in range(4):\n",
    "    print(f\"Student {i+1}: Original={total_scores[i,0]}, Weighted Math={total_scores_prime[i,0]}\")"
   ]
  },
  {
   "cell_type": "markdown",
   "id": "1ee154d5",
   "metadata": {},
   "source": [
    "**Discussion:**  \n",
    "Weighting Mathematics more heavily increases each student's total score, especially for those who performed well in Math. This adjustment reflects the increased importance of Mathematics in the overall evaluation."
   ]
  }
 ],
 "metadata": {
  "language_info": {
   "name": "python"
  }
 },
 "nbformat": 4,
 "nbformat_minor": 5
}
