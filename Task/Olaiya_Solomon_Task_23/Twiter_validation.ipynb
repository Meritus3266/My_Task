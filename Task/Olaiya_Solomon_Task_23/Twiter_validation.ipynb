{
 "cells": [
  {
   "cell_type": "code",
   "execution_count": 3,
   "id": "ac2f1f90",
   "metadata": {},
   "outputs": [],
   "source": [
    "from typing import Optional\n",
    "from pydantic import BaseModel, field_validator, ValidationError\n",
    "import re\n"
   ]
  },
  {
   "cell_type": "code",
   "execution_count": 8,
   "id": "b0a8399e",
   "metadata": {},
   "outputs": [],
   "source": [
    "class TwitterUser(BaseModel):\n",
    "    username: str\n",
    "    post: str\n",
    "\n",
    "    @field_validator('username')\n",
    "    def validate_twiter_username(cls, v):\n",
    "        if not v. startswith('@'):\n",
    "            raise ValueError(\"Twitter username must start with @\")\n",
    "        \n",
    "                        #checking the length rule \n",
    "         \n",
    "        if len(v) < 3 or len(v) > 20:\n",
    "            raise ValueError (\"Twitter username must be between 1-20 characters\")\n",
    "        if not re.match(r'^[A-Za-z0-9_]+$%,v'):\n",
    "            raise ValueError (\"Twitter username may inclde Upper and Lower case letters, underscore and special characters after @ \")\n",
    "        return v\n",
    "    \n"
   ]
  },
  {
   "cell_type": "code",
   "execution_count": 9,
   "id": "29eb9f30",
   "metadata": {},
   "outputs": [],
   "source": [
    "@field_validator('post') \n",
    "def validate_twiter_post(cls, v):\n",
    "       \n",
    "        if not (1 <= len(v) >= 360):\n",
    "            raise ValueError(\"Tweet must be between 1 and 360 characters\")\n",
    "        return v"
   ]
  },
  {
   "cell_type": "code",
   "execution_count": 10,
   "id": "14c5cc66",
   "metadata": {},
   "outputs": [
    {
     "ename": "TypeError",
     "evalue": "match() missing 1 required positional argument: 'string'",
     "output_type": "error",
     "traceback": [
      "\u001b[31m---------------------------------------------------------------------------\u001b[39m",
      "\u001b[31mTypeError\u001b[39m                                 Traceback (most recent call last)",
      "\u001b[36mCell\u001b[39m\u001b[36m \u001b[39m\u001b[32mIn[10]\u001b[39m\u001b[32m, line 3\u001b[39m\n\u001b[32m      1\u001b[39m \u001b[38;5;28;01mif\u001b[39;00m \u001b[34m__name__\u001b[39m == \u001b[33m\"\u001b[39m\u001b[33m__main__\u001b[39m\u001b[33m\"\u001b[39m:\n\u001b[32m      2\u001b[39m       \u001b[38;5;28;01mtry\u001b[39;00m: \n\u001b[32m----> \u001b[39m\u001b[32m3\u001b[39m             tweet = \u001b[43mTwitterUser\u001b[49m\u001b[43m(\u001b[49m\u001b[43musername\u001b[49m\u001b[43m=\u001b[49m\u001b[33;43m\"\u001b[39;49m\u001b[33;43m@meritus_lux\u001b[39;49m\u001b[33;43m\"\u001b[39;49m\u001b[43m)\u001b[49m\n\u001b[32m      4\u001b[39m             \u001b[38;5;28mprint\u001b[39m(\u001b[33m\"\u001b[39m\u001b[33mValid tweet\u001b[39m\u001b[33m\"\u001b[39m)\n\u001b[32m      5\u001b[39m       \u001b[38;5;28;01mexcept\u001b[39;00m \u001b[38;5;167;01mValueError\u001b[39;00m \u001b[38;5;28;01mas\u001b[39;00m e:\n",
      "    \u001b[31m[... skipping hidden 1 frame]\u001b[39m\n",
      "\u001b[36mCell\u001b[39m\u001b[36m \u001b[39m\u001b[32mIn[8]\u001b[39m\u001b[32m, line 14\u001b[39m, in \u001b[36mTwitterUser.validate_twiter_username\u001b[39m\u001b[34m(cls, v)\u001b[39m\n\u001b[32m     12\u001b[39m \u001b[38;5;28;01mif\u001b[39;00m \u001b[38;5;28mlen\u001b[39m(v) < \u001b[32m3\u001b[39m \u001b[38;5;129;01mor\u001b[39;00m \u001b[38;5;28mlen\u001b[39m(v) > \u001b[32m20\u001b[39m:\n\u001b[32m     13\u001b[39m     \u001b[38;5;28;01mraise\u001b[39;00m \u001b[38;5;167;01mValueError\u001b[39;00m (\u001b[33m\"\u001b[39m\u001b[33mTwitter username must be between 1-20 characters\u001b[39m\u001b[33m\"\u001b[39m)\n\u001b[32m---> \u001b[39m\u001b[32m14\u001b[39m \u001b[38;5;28;01mif\u001b[39;00m \u001b[38;5;129;01mnot\u001b[39;00m \u001b[43mre\u001b[49m\u001b[43m.\u001b[49m\u001b[43mmatch\u001b[49m\u001b[43m(\u001b[49m\u001b[33;43mr\u001b[39;49m\u001b[33;43m'\u001b[39;49m\u001b[33;43m^[A-Za-z0-9_]+$\u001b[39;49m\u001b[33;43m%\u001b[39;49m\u001b[33;43m,v\u001b[39;49m\u001b[33;43m'\u001b[39;49m\u001b[43m)\u001b[49m:\n\u001b[32m     15\u001b[39m     \u001b[38;5;28;01mraise\u001b[39;00m \u001b[38;5;167;01mValueError\u001b[39;00m (\u001b[33m\"\u001b[39m\u001b[33mTwitter username may inclde Upper and Lower case letters, underscore and special characters after @ \u001b[39m\u001b[33m\"\u001b[39m)\n\u001b[32m     16\u001b[39m \u001b[38;5;28;01mreturn\u001b[39;00m v\n",
      "\u001b[31mTypeError\u001b[39m: match() missing 1 required positional argument: 'string'"
     ]
    }
   ],
   "source": [
    "if __name__ == \"__main__\":\n",
    "      try: \n",
    "            tweet = TwitterUser(username=\"@meritus_lux\")\n",
    "            print(\"Valid tweet\")\n",
    "      except ValueError as e:\n",
    "        print(f\"ValidationError: {e}\")\n",
    "\n",
    "\n",
    "\n",
    "    #     tweet = TwitterUser(\n",
    "    #         user = TwitterUser(username = \"@meritus_lux\"),\n",
    "    #         post = \"I sell luxury wears\"\n",
    "    #     )\n",
    "    #     print(\"valid tweet\")\n",
    "    # except ValidationError as e:\n",
    "    #     print(\"Validation error:\", e)\n",
    "\n",
    "    # try: \n",
    "    #     invalid_tweet = TwitterUser(\n",
    "    #         user = TwitterUser(username = \"@nobodyknowstomorrowevenifyouareaseeryoucanttell\"),\n",
    "    #         post = \"\"\n",
    "    #     )\n",
    "    # except ValidationError as e:\n",
    "    #     print(\"Validation error:\", e)\n",
    "        "
   ]
  }
 ],
 "metadata": {
  "kernelspec": {
   "display_name": "Python 3",
   "language": "python",
   "name": "python3"
  },
  "language_info": {
   "codemirror_mode": {
    "name": "ipython",
    "version": 3
   },
   "file_extension": ".py",
   "mimetype": "text/x-python",
   "name": "python",
   "nbconvert_exporter": "python",
   "pygments_lexer": "ipython3",
   "version": "3.14.0"
  }
 },
 "nbformat": 4,
 "nbformat_minor": 5
}
